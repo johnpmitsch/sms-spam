{
 "metadata": {
  "name": "",
  "signature": "sha256:e337ba259b7d373a3ee3b8a26904cec67c43be26eb7bc3e61cbd2c4bb5935054"
 },
 "nbformat": 3,
 "nbformat_minor": 0,
 "worksheets": [
  {
   "cells": [
    {
     "cell_type": "heading",
     "level": 1,
     "metadata": {},
     "source": [
      "Analysis of Spam and Ham"
     ]
    },
    {
     "cell_type": "code",
     "collapsed": false,
     "input": [
      "from textblob import TextBlob\n",
      "import nltk"
     ],
     "language": "python",
     "metadata": {},
     "outputs": [],
     "prompt_number": 163
    },
    {
     "cell_type": "code",
     "collapsed": false,
     "input": [
      "#nltk.download()"
     ],
     "language": "python",
     "metadata": {},
     "outputs": [],
     "prompt_number": 164
    },
    {
     "cell_type": "code",
     "collapsed": false,
     "input": [
      "text = TextBlob('John')"
     ],
     "language": "python",
     "metadata": {},
     "outputs": [],
     "prompt_number": 165
    },
    {
     "cell_type": "code",
     "collapsed": false,
     "input": [
      "spam_ham = open(\"smsspamcollection/SMSSpamCollection\")"
     ],
     "language": "python",
     "metadata": {},
     "outputs": [],
     "prompt_number": 166
    },
    {
     "cell_type": "code",
     "collapsed": false,
     "input": [
      "full_text = [TextBlob(line) for line in spam_ham]"
     ],
     "language": "python",
     "metadata": {},
     "outputs": [],
     "prompt_number": 167
    },
    {
     "cell_type": "code",
     "collapsed": false,
     "input": [
      "ham = [blob for blob in full_text if blob.words[0] == 'ham']"
     ],
     "language": "python",
     "metadata": {},
     "outputs": [],
     "prompt_number": 168
    },
    {
     "cell_type": "code",
     "collapsed": false,
     "input": [
      "spam = [blob for blob in full_text if blob.words[0] == 'spam']"
     ],
     "language": "python",
     "metadata": {},
     "outputs": [],
     "prompt_number": 169
    },
    {
     "cell_type": "heading",
     "level": 2,
     "metadata": {},
     "source": [
      "Finding the most common words in spam and ham"
     ]
    },
    {
     "cell_type": "code",
     "collapsed": false,
     "input": [
      "import collections\n",
      "import operator\n",
      "\n",
      "def get_common_words(blobs):\n",
      "    \"\"\"Finds the common words in a list of TextBlobs\"\"\"\n",
      "    word_dict = collections.OrderedDict()\n",
      "    for blob in blobs:\n",
      "        for word in blob.words:\n",
      "            if word not in (\"ham\", \"spam\"):\n",
      "                if word in word_dict.keys():\n",
      "                    word_dict[word] += 1\n",
      "                else:\n",
      "                    word_dict[word] = 1\n",
      "    sorted_list = sorted(word_dict.items(), key=operator.itemgetter(1), reverse=True)\n",
      "    return sorted_list\n"
     ],
     "language": "python",
     "metadata": {},
     "outputs": [],
     "prompt_number": 170
    },
    {
     "cell_type": "code",
     "collapsed": false,
     "input": [
      "spam_list = get_common_words(spam)"
     ],
     "language": "python",
     "metadata": {},
     "outputs": [],
     "prompt_number": 171
    },
    {
     "cell_type": "code",
     "collapsed": false,
     "input": [
      "ham_list = get_common_words(ham)"
     ],
     "language": "python",
     "metadata": {},
     "outputs": [],
     "prompt_number": 172
    },
    {
     "cell_type": "code",
     "collapsed": false,
     "input": [
      "spam_list[0:20]"
     ],
     "language": "python",
     "metadata": {},
     "outputs": [
      {
       "metadata": {},
       "output_type": "pyout",
       "prompt_number": 444,
       "text": [
        "[('to', 611),\n",
        " ('a', 360),\n",
        " ('you', 189),\n",
        " ('call', 188),\n",
        " ('your', 187),\n",
        " ('or', 185),\n",
        " ('the', 178),\n",
        " ('2', 176),\n",
        " ('for', 170),\n",
        " ('is', 149),\n",
        " ('on', 139),\n",
        " ('now', 138),\n",
        " ('Call', 138),\n",
        " ('have', 129),\n",
        " ('4', 122),\n",
        " ('and', 119),\n",
        " ('from', 116),\n",
        " ('FREE', 115),\n",
        " ('ur', 107),\n",
        " ('with', 102)]"
       ]
      }
     ],
     "prompt_number": 444
    },
    {
     "cell_type": "code",
     "collapsed": false,
     "input": [
      "ham_list[0:20]"
     ],
     "language": "python",
     "metadata": {},
     "outputs": [
      {
       "metadata": {},
       "output_type": "pyout",
       "prompt_number": 445,
       "text": [
        "[('I', 1925),\n",
        " ('you', 1703),\n",
        " ('to', 1548),\n",
        " ('the', 1033),\n",
        " ('a', 980),\n",
        " ('i', 926),\n",
        " ('in', 764),\n",
        " ('and', 742),\n",
        " ('u', 741),\n",
        " ('me', 721),\n",
        " ('is', 674),\n",
        " ('my', 624),\n",
        " ('it', 582),\n",
        " ('of', 505),\n",
        " ('for', 486),\n",
        " ('that', 476),\n",
        " (\"'s\", 421),\n",
        " (\"'m\", 387),\n",
        " ('do', 380),\n",
        " ('your', 375)]"
       ]
      }
     ],
     "prompt_number": 445
    },
    {
     "cell_type": "code",
     "collapsed": false,
     "input": [
      "def get_top_words(num_words, tup_list):\n",
      "    \"\"\"returns the top words of a sorted, ranked word list\"\"\"\n",
      "    words = []\n",
      "    for i in range(num_words):\n",
      "        words.append(tup_list[i][0])\n",
      "    return words"
     ],
     "language": "python",
     "metadata": {},
     "outputs": [],
     "prompt_number": 173
    },
    {
     "cell_type": "code",
     "collapsed": false,
     "input": [
      "def get_unshared_words_spam(length):\n",
      "    \"\"\"returns the words not shared by spam and ham lists specific to length\"\"\"\n",
      "    spam_twenty = get_top_words(length, spam_list)\n",
      "    ham_twenty = get_top_words(length, ham_list)\n",
      "    return list(set(spam_twenty) - set(ham_twenty))"
     ],
     "language": "python",
     "metadata": {},
     "outputs": [],
     "prompt_number": 174
    },
    {
     "cell_type": "code",
     "collapsed": false,
     "input": [
      "spam_ten = get_unshared_words_spam(10)"
     ],
     "language": "python",
     "metadata": {},
     "outputs": [],
     "prompt_number": 297
    },
    {
     "cell_type": "code",
     "collapsed": false,
     "input": [
      "ham_ten = get_unshared_words_ham(10)"
     ],
     "language": "python",
     "metadata": {},
     "outputs": [],
     "prompt_number": 298
    },
    {
     "cell_type": "code",
     "collapsed": false,
     "input": [
      "spam_one_thousand = get_unshared_words_spam(1000)"
     ],
     "language": "python",
     "metadata": {},
     "outputs": [],
     "prompt_number": 176
    },
    {
     "cell_type": "code",
     "collapsed": false,
     "input": [
      "spam_one_thousand[0:20]"
     ],
     "language": "python",
     "metadata": {},
     "outputs": [
      {
       "metadata": {},
       "output_type": "pyout",
       "prompt_number": 177,
       "text": [
        "['matches',\n",
        " '087187262701.50gbp/mtmsg18',\n",
        " 'collect',\n",
        " 'profit',\n",
        " 'NTT',\n",
        " 'ntwk',\n",
        " 'www.comuk.net',\n",
        " 'BT',\n",
        " 'Landline',\n",
        " 'Tenerife',\n",
        " '\u00a3800',\n",
        " 'REVEAL',\n",
        " '\u00a3250',\n",
        " 'pics',\n",
        " 'visit',\n",
        " '250',\n",
        " 'London',\n",
        " 'Max10mins',\n",
        " 'gift',\n",
        " 'SkilGme']"
       ]
      }
     ],
     "prompt_number": 177
    },
    {
     "cell_type": "code",
     "collapsed": false,
     "input": [
      "def get_unshared_words_ham(length):\n",
      "    \"\"\"Returns the unshared words of the spam and ham lists. The lists are both shortened to a\n",
      "    specified length\"\"\"\n",
      "    spam_twenty = get_top_words(length, spam_list)\n",
      "    ham_twenty = get_top_words(length, ham_list)\n",
      "    return list(set(ham_twenty) - set(spam_twenty))"
     ],
     "language": "python",
     "metadata": {},
     "outputs": [],
     "prompt_number": 178
    },
    {
     "cell_type": "code",
     "collapsed": false,
     "input": [
      "ham_one_thousand = get_unshared_words_ham(1000)"
     ],
     "language": "python",
     "metadata": {},
     "outputs": [],
     "prompt_number": 179
    },
    {
     "cell_type": "code",
     "collapsed": false,
     "input": [
      "ham_one_thousand[0:20]"
     ],
     "language": "python",
     "metadata": {},
     "outputs": [
      {
       "metadata": {},
       "output_type": "pyout",
       "prompt_number": 242,
       "text": [
        "['plz',\n",
        " 'lei',\n",
        " 'Very',\n",
        " 'exam',\n",
        " 'shit',\n",
        " 'safe',\n",
        " 'y',\n",
        " 'ca',\n",
        " 'Miss',\n",
        " 'Thats',\n",
        " 'okay',\n",
        " 'happened',\n",
        " 'because',\n",
        " 'heart',\n",
        " 'Nah',\n",
        " 'says',\n",
        " 'park',\n",
        " 'Den',\n",
        " 'lor',\n",
        " 'carlos']"
       ]
      }
     ],
     "prompt_number": 242
    },
    {
     "cell_type": "code",
     "collapsed": false,
     "input": [
      "spam_one_hundred = get_unshared_words_spam(100)"
     ],
     "language": "python",
     "metadata": {},
     "outputs": [],
     "prompt_number": 181
    },
    {
     "cell_type": "code",
     "collapsed": false,
     "input": [
      "ham_one_hundred = get_unshared_words_ham(100)"
     ],
     "language": "python",
     "metadata": {},
     "outputs": [],
     "prompt_number": 182
    },
    {
     "cell_type": "code",
     "collapsed": false,
     "input": [
      "ham_one_hundred[0:20]"
     ],
     "language": "python",
     "metadata": {},
     "outputs": [
      {
       "metadata": {},
       "output_type": "pyout",
       "prompt_number": 241,
       "text": [
        "['how',\n",
        " 'think',\n",
        " 'he',\n",
        " 'so',\n",
        " 'was',\n",
        " 'her',\n",
        " 'love',\n",
        " 'What',\n",
        " 'want',\n",
        " 'there',\n",
        " 'then',\n",
        " 'can',\n",
        " 'back',\n",
        " 'good',\n",
        " 'do',\n",
        " 'about',\n",
        " 'going',\n",
        " 'Do',\n",
        " 'but',\n",
        " 'home']"
       ]
      }
     ],
     "prompt_number": 241
    },
    {
     "cell_type": "code",
     "collapsed": false,
     "input": [
      "spam_one_hundred[0:20]"
     ],
     "language": "python",
     "metadata": {},
     "outputs": [
      {
       "metadata": {},
       "output_type": "pyout",
       "prompt_number": 240,
       "text": [
        "['service',\n",
        " 'Claim',\n",
        " 'Text',\n",
        " 'PO',\n",
        " 'Your',\n",
        " 'week',\n",
        " 'send',\n",
        " 'new',\n",
        " 'prize',\n",
        " 'latest',\n",
        " '3',\n",
        " 'To',\n",
        " 'stop',\n",
        " 'contact',\n",
        " 'txt',\n",
        " 'T',\n",
        " 'Call',\n",
        " 'been',\n",
        " 'customer',\n",
        " 'apply']"
       ]
      }
     ],
     "prompt_number": 240
    },
    {
     "cell_type": "markdown",
     "metadata": {},
     "source": [
      "Lists spam_one_hundred, spam_one_thousand, ham_one_hundred, and ham_one_thousand are two large lists that take the top x used words in ham and spam texts and cross-references them to see what words are unique to each"
     ]
    },
    {
     "cell_type": "heading",
     "level": 2,
     "metadata": {},
     "source": [
      "Running classification tests"
     ]
    },
    {
     "cell_type": "markdown",
     "metadata": {},
     "source": [
      "Tests are run using the amount words shared by each text and the lists spam_one_hundred, spam_one_thousand, ham_one_hundred, and ham_one_thousand. Length and occurence of money symbols are also used as features. This makes 6 features in total"
     ]
    },
    {
     "cell_type": "code",
     "collapsed": false,
     "input": [
      "from sklearn.cross_validation import train_test_split\n",
      "from sklearn.naive_bayes import GaussianNB\n",
      "from sklearn import metrics\n",
      "from sklearn.cross_validation import cross_val_score\n",
      "import pandas as pd\n",
      "import numpy as np"
     ],
     "language": "python",
     "metadata": {},
     "outputs": [],
     "prompt_number": 185
    },
    {
     "cell_type": "code",
     "collapsed": false,
     "input": [
      "def spam_ham_indicator(blob):\n",
      "    if blob.words[0] == \"spam\":\n",
      "        return 1\n",
      "    else:\n",
      "        return 0"
     ],
     "language": "python",
     "metadata": {},
     "outputs": [],
     "prompt_number": 186
    },
    {
     "cell_type": "markdown",
     "metadata": {},
     "source": [
      "Spam_or_ham is used as the target value"
     ]
    },
    {
     "cell_type": "code",
     "collapsed": false,
     "input": [
      "spam_or_ham = np.array([spam_ham_indicator(blob) for blob in full_text])"
     ],
     "language": "python",
     "metadata": {},
     "outputs": [],
     "prompt_number": 187
    },
    {
     "cell_type": "code",
     "collapsed": false,
     "input": [
      "def get_character_count(sentence, character):\n",
      "    \"\"\"Returns the count of a character in a sentence\"\"\"\n",
      "    count = 0\n",
      "    for char in sentence:\n",
      "        if char == character:\n",
      "            count += 1\n",
      "    return count"
     ],
     "language": "python",
     "metadata": {},
     "outputs": [],
     "prompt_number": 188
    },
    {
     "cell_type": "code",
     "collapsed": false,
     "input": [
      "def get_capital_count(sentence):\n",
      "    \"\"\"Returns the count of capital letters in a sentence\"\"\"\n",
      "    count = 0\n",
      "    for char in sentence:\n",
      "        if char in \"ABCDEFGHIJKLMNOPQRSTUVWXYZ\":\n",
      "            count += 1\n",
      "    return count"
     ],
     "language": "python",
     "metadata": {},
     "outputs": [],
     "prompt_number": 259
    },
    {
     "cell_type": "code",
     "collapsed": false,
     "input": [
      "def words_in_list(blob, lst):\n",
      "    \"\"\"Returns count of times word is in a list\"\"\"\n",
      "    word_count = 0\n",
      "    for word in blob.words:\n",
      "        if word in lst:\n",
      "            word_count += 1\n",
      "    return word_count"
     ],
     "language": "python",
     "metadata": {},
     "outputs": [],
     "prompt_number": 190
    },
    {
     "cell_type": "code",
     "collapsed": false,
     "input": [
      "money_symbols = ['\u00a3', '$', '\u00a2']\n",
      "\n",
      "def has_money_symbol(blob):\n",
      "    \"\"\"Returns count of times word is in a list\"\"\"\n",
      "    money_count = 0\n",
      "    for char in blob:\n",
      "        if char in money_symbols:\n",
      "            money_count += 1\n",
      "    return money_count"
     ],
     "language": "python",
     "metadata": {},
     "outputs": [],
     "prompt_number": 191
    },
    {
     "cell_type": "code",
     "collapsed": false,
     "input": [
      "def num_count(sentence):\n",
      "    count = 0\n",
      "    for char in sentence:\n",
      "        if char.isdigit():\n",
      "            count += 1\n",
      "    return count"
     ],
     "language": "python",
     "metadata": {},
     "outputs": [],
     "prompt_number": 243
    },
    {
     "cell_type": "code",
     "collapsed": false,
     "input": [
      "num_count(full_text[3])"
     ],
     "language": "python",
     "metadata": {},
     "outputs": [
      {
       "metadata": {},
       "output_type": "pyout",
       "prompt_number": 249,
       "text": [
        "0"
       ]
      }
     ],
     "prompt_number": 249
    },
    {
     "cell_type": "code",
     "collapsed": false,
     "input": [
      "numbers = [num_count(blob) for blob in full_text]"
     ],
     "language": "python",
     "metadata": {},
     "outputs": [],
     "prompt_number": 250
    },
    {
     "cell_type": "code",
     "collapsed": false,
     "input": [
      "capital_letters = [get_capital_count(blob) for blob in full_text]"
     ],
     "language": "python",
     "metadata": {},
     "outputs": [],
     "prompt_number": 193
    },
    {
     "cell_type": "code",
     "collapsed": false,
     "input": [
      "question_marks = [get_character_count(blob, \"?\") for blob in full_text]"
     ],
     "language": "python",
     "metadata": {},
     "outputs": [],
     "prompt_number": 194
    },
    {
     "cell_type": "code",
     "collapsed": false,
     "input": [
      "exclamation_points = [get_character_count(blob, \"!\") for blob in full_text]"
     ],
     "language": "python",
     "metadata": {},
     "outputs": [],
     "prompt_number": 195
    },
    {
     "cell_type": "code",
     "collapsed": false,
     "input": [
      "commas = [get_character_count(blob, \",\") for blob in full_text]"
     ],
     "language": "python",
     "metadata": {},
     "outputs": [],
     "prompt_number": 196
    },
    {
     "cell_type": "code",
     "collapsed": false,
     "input": [
      "colons = [get_character_count(blob, \":\") for blob in full_text]"
     ],
     "language": "python",
     "metadata": {},
     "outputs": [],
     "prompt_number": 197
    },
    {
     "cell_type": "code",
     "collapsed": false,
     "input": [
      "ampersands = [get_character_count(blob, \"&\") for blob in full_text]"
     ],
     "language": "python",
     "metadata": {},
     "outputs": [],
     "prompt_number": 198
    },
    {
     "cell_type": "code",
     "collapsed": false,
     "input": [
      "at_signs = [get_character_count(blob, \"@\") for blob in full_text]"
     ],
     "language": "python",
     "metadata": {},
     "outputs": [],
     "prompt_number": 199
    },
    {
     "cell_type": "code",
     "collapsed": false,
     "input": [
      "hash_tags = [get_character_count(blob, \"#\") for blob in full_text]"
     ],
     "language": "python",
     "metadata": {},
     "outputs": [],
     "prompt_number": 200
    },
    {
     "cell_type": "code",
     "collapsed": false,
     "input": [
      "asterisks = [get_character_count(blob, \"*\") for blob in full_text]"
     ],
     "language": "python",
     "metadata": {},
     "outputs": [],
     "prompt_number": 201
    },
    {
     "cell_type": "code",
     "collapsed": false,
     "input": [
      "sms_length = [len(blob) for blob in full_text]"
     ],
     "language": "python",
     "metadata": {},
     "outputs": [],
     "prompt_number": 202
    },
    {
     "cell_type": "code",
     "collapsed": false,
     "input": [
      "money_occurence = [has_money_symbol(blob) for blob in full_text]"
     ],
     "language": "python",
     "metadata": {},
     "outputs": [],
     "prompt_number": 203
    },
    {
     "cell_type": "code",
     "collapsed": false,
     "input": [
      "spam_ten_occurence = [words_in_list(blob, spam_ten) for blob in full_text]"
     ],
     "language": "python",
     "metadata": {},
     "outputs": [],
     "prompt_number": 299
    },
    {
     "cell_type": "code",
     "collapsed": false,
     "input": [
      "ham_ten_occurence = [words_in_list(blob, ham_ten) for blob in full_text]"
     ],
     "language": "python",
     "metadata": {},
     "outputs": [],
     "prompt_number": 300
    },
    {
     "cell_type": "code",
     "collapsed": false,
     "input": [
      "spam_hundred_occurence = np.array([words_in_list(blob, spam_one_hundred) for blob in full_text])"
     ],
     "language": "python",
     "metadata": {},
     "outputs": [],
     "prompt_number": 204
    },
    {
     "cell_type": "code",
     "collapsed": false,
     "input": [
      "spam_hundred_occurence[0:100]"
     ],
     "language": "python",
     "metadata": {},
     "outputs": [
      {
       "metadata": {},
       "output_type": "pyout",
       "prompt_number": 205,
       "text": [
        "array([0, 0, 8, 0, 0, 4, 0, 3, 6, 6, 0, 6, 9, 2, 0, 3, 0, 0, 0, 2, 0, 0, 0,\n",
        "       1, 0, 2, 0, 0, 0, 0, 0, 0, 0, 0, 3, 0, 0, 0, 0, 0, 0, 0, 7, 0, 0, 0,\n",
        "       0, 0, 0, 0, 0, 0, 2, 0, 1, 0, 3, 0, 0, 0, 2, 0, 0, 0, 0, 2, 0, 5, 1,\n",
        "       0, 0, 0, 1, 0, 0, 2, 0, 0, 0, 0, 0, 0, 0, 0, 1, 0, 0, 2, 0, 1, 0, 0,\n",
        "       0, 8, 0, 6, 0, 0, 1, 0])"
       ]
      }
     ],
     "prompt_number": 205
    },
    {
     "cell_type": "code",
     "collapsed": false,
     "input": [
      "spam_thousand_occurence = np.array([words_in_list(blob, spam_one_thousand) for blob in full_text])"
     ],
     "language": "python",
     "metadata": {},
     "outputs": [],
     "prompt_number": 206
    },
    {
     "cell_type": "code",
     "collapsed": false,
     "input": [
      "ham_hundred_occurence = np.array([words_in_list(blob, ham_one_hundred) for blob in full_text])"
     ],
     "language": "python",
     "metadata": {},
     "outputs": [],
     "prompt_number": 207
    },
    {
     "cell_type": "code",
     "collapsed": false,
     "input": [
      "ham_thousand_occurence = np.array([words_in_list(blob, ham_one_thousand) for blob in full_text])"
     ],
     "language": "python",
     "metadata": {},
     "outputs": [],
     "prompt_number": 208
    },
    {
     "cell_type": "markdown",
     "metadata": {},
     "source": [
      "sms_features is used as the data of the test"
     ]
    },
    {
     "cell_type": "code",
     "collapsed": false,
     "input": [
      "sms_features = np.array([sms_length, money_occurence, spam_ten_occurence,\n",
      "                         ham_ten_occurence,spam_hundred_occurence, \n",
      "                         spam_thousand_occurence, \n",
      "                         ham_hundred_occurence, ham_thousand_occurence,\n",
      "                         question_marks, exclamation_points, commas,\n",
      "                         colons, ampersands, at_signs, hash_tags,\n",
      "                         asterisks, capital_letters, numbers])"
     ],
     "language": "python",
     "metadata": {},
     "outputs": [],
     "prompt_number": 304
    },
    {
     "cell_type": "code",
     "collapsed": false,
     "input": [
      "sms_features = sms_features.transpose()"
     ],
     "language": "python",
     "metadata": {},
     "outputs": [],
     "prompt_number": 305
    },
    {
     "cell_type": "code",
     "collapsed": false,
     "input": [
      "x_train, x_test, y_train, y_test = train_test_split(sms_features, spam_or_ham, test_size=0.4, random_state=0)"
     ],
     "language": "python",
     "metadata": {},
     "outputs": [],
     "prompt_number": 411
    },
    {
     "cell_type": "heading",
     "level": 2,
     "metadata": {},
     "source": [
      "Using Random Forest Classifier"
     ]
    },
    {
     "cell_type": "code",
     "collapsed": false,
     "input": [
      "from sklearn.ensemble import RandomForestClassifier\n",
      "\n",
      "classifier = RandomForestClassifier()\n",
      "classifier = classifier.fit(x_train, y_train)\n",
      "predicted = classifier.predict(x_test)\n",
      "\n",
      "print(metrics.classification_report(y_test, predicted))\n",
      "print(metrics.confusion_matrix(y_test, predicted))\n",
      "print(metrics.f1_score(y_test, predicted))"
     ],
     "language": "python",
     "metadata": {},
     "outputs": [
      {
       "output_type": "stream",
       "stream": "stdout",
       "text": [
        "             precision    recall  f1-score   support\n",
        "\n",
        "          0       0.99      1.00      0.99      1928\n",
        "          1       0.98      0.94      0.96       302\n",
        "\n",
        "avg / total       0.99      0.99      0.99      2230\n",
        "\n",
        "[[1923    5]\n",
        " [  19  283]]\n",
        "0.959322033898\n"
       ]
      }
     ],
     "prompt_number": 412
    },
    {
     "cell_type": "markdown",
     "metadata": {},
     "source": [
      "Using these features, Random Forest Classier consistently classifies 98-99% of spam"
     ]
    },
    {
     "cell_type": "heading",
     "level": 2,
     "metadata": {},
     "source": [
      "K-means classifier"
     ]
    },
    {
     "cell_type": "heading",
     "level": 3,
     "metadata": {},
     "source": [
      "2 groups"
     ]
    },
    {
     "cell_type": "code",
     "collapsed": false,
     "input": [
      "from sklearn.cluster import KMeans\n",
      "\n",
      "kmeans = KMeans(2)\n",
      "kmeans.fit(x_train, y_train)"
     ],
     "language": "python",
     "metadata": {},
     "outputs": [
      {
       "metadata": {},
       "output_type": "pyout",
       "prompt_number": 414,
       "text": [
        "KMeans(copy_x=True, init='k-means++', max_iter=300, n_clusters=2, n_init=10,\n",
        "    n_jobs=1, precompute_distances=True, random_state=None, tol=0.0001,\n",
        "    verbose=0)"
       ]
      }
     ],
     "prompt_number": 414
    },
    {
     "cell_type": "code",
     "collapsed": false,
     "input": [
      "sms_features.astype(float)  # to avoid stupid error\n",
      "clusters = kmeans.predict(x_test)\n",
      "clusters"
     ],
     "language": "python",
     "metadata": {},
     "outputs": [
      {
       "output_type": "stream",
       "stream": "stderr",
       "text": [
        "/Users/johnmitsch/.pyenv/versions/sandbox/lib/python3.4/site-packages/sklearn/cluster/k_means_.py:797: RuntimeWarning: Got data type int64, converted to float to avoid overflows\n",
        "  X = self._check_test_data(X)\n"
       ]
      },
      {
       "metadata": {},
       "output_type": "pyout",
       "prompt_number": 415,
       "text": [
        "array([0, 0, 0, ..., 0, 1, 0], dtype=int32)"
       ]
      }
     ],
     "prompt_number": 415
    },
    {
     "cell_type": "code",
     "collapsed": false,
     "input": [
      "clusters.shape"
     ],
     "language": "python",
     "metadata": {},
     "outputs": [
      {
       "metadata": {},
       "output_type": "pyout",
       "prompt_number": 416,
       "text": [
        "(2230,)"
       ]
      }
     ],
     "prompt_number": 416
    },
    {
     "cell_type": "code",
     "collapsed": false,
     "input": [
      "np.round(kmeans.cluster_centers_, 1)"
     ],
     "language": "python",
     "metadata": {},
     "outputs": [
      {
       "metadata": {},
       "output_type": "pyout",
       "prompt_number": 417,
       "text": [
        "array([[  5.17000000e+01,   0.00000000e+00,   3.00000000e-01,\n",
        "          8.00000000e-01,   2.00000000e-01,   1.00000000e-01,\n",
        "          1.90000000e+00,   2.60000000e+00,   2.00000000e-01,\n",
        "          1.00000000e-01,   2.00000000e-01,   1.00000000e-01,\n",
        "          1.00000000e-01,   0.00000000e+00,   0.00000000e+00,\n",
        "          0.00000000e+00,   2.50000000e+00,   3.00000000e-01],\n",
        "       [  1.56900000e+02,   2.00000000e-01,   1.10000000e+00,\n",
        "          1.70000000e+00,   2.00000000e+00,   3.60000000e+00,\n",
        "          3.70000000e+00,   4.90000000e+00,   3.00000000e-01,\n",
        "          5.00000000e-01,   8.00000000e-01,   2.00000000e-01,\n",
        "          4.00000000e-01,   0.00000000e+00,   1.00000000e-01,\n",
        "          1.00000000e-01,   1.26000000e+01,   6.70000000e+00]])"
       ]
      }
     ],
     "prompt_number": 417
    },
    {
     "cell_type": "code",
     "collapsed": false,
     "input": [
      "print(metrics.classification_report(clusters, y_test))\n",
      "print(metrics.confusion_matrix(clusters, y_test))\n",
      "print(metrics.f1_score(clusters, y_test))"
     ],
     "language": "python",
     "metadata": {},
     "outputs": [
      {
       "output_type": "stream",
       "stream": "stdout",
       "text": [
        "             precision    recall  f1-score   support\n",
        "\n",
        "          0       0.78      0.98      0.87      1530\n",
        "          1       0.90      0.39      0.54       700\n",
        "\n",
        "avg / total       0.82      0.79      0.77      2230\n",
        "\n",
        "[[1500   30]\n",
        " [ 428  272]]\n",
        "0.542914171657\n"
       ]
      }
     ],
     "prompt_number": 418
    },
    {
     "cell_type": "markdown",
     "metadata": {},
     "source": [
      "K-means is not doing so well, I am not sure why?"
     ]
    },
    {
     "cell_type": "heading",
     "level": 2,
     "metadata": {},
     "source": [
      "An idea just so crazy... it worked"
     ]
    },
    {
     "cell_type": "markdown",
     "metadata": {},
     "source": [
      "making 300 total lists of unshared words at intervals of 20 between 1 and 3000 for ham and spam"
     ]
    },
    {
     "cell_type": "code",
     "collapsed": false,
     "input": [
      "spam_array = np.array([[get_unshared_words_spam(i)] for i in np.arange(1,3000,20)])"
     ],
     "language": "python",
     "metadata": {},
     "outputs": [],
     "prompt_number": 373
    },
    {
     "cell_type": "code",
     "collapsed": false,
     "input": [
      "ham_array = np.array([[get_unshared_words_ham(i)] for i in range(1,3000,20)])"
     ],
     "language": "python",
     "metadata": {},
     "outputs": [],
     "prompt_number": 374
    },
    {
     "cell_type": "markdown",
     "metadata": {},
     "source": [
      "making all of those lists features by checking the words of a text against each list"
     ]
    },
    {
     "cell_type": "code",
     "collapsed": false,
     "input": [
      "spam_features = np.array([[words_in_list(blob, lst[0]) for blob in full_text] for lst in spam_array])"
     ],
     "language": "python",
     "metadata": {},
     "outputs": [],
     "prompt_number": 376
    },
    {
     "cell_type": "code",
     "collapsed": false,
     "input": [
      "ham_features = np.array([[words_in_list(blob, lst[0]) for blob in full_text] for lst in ham_array])"
     ],
     "language": "python",
     "metadata": {},
     "outputs": [],
     "prompt_number": 378
    },
    {
     "cell_type": "code",
     "collapsed": false,
     "input": [
      "feature_matrix = np.vstack((ham_features, spam_features))"
     ],
     "language": "python",
     "metadata": {},
     "outputs": [],
     "prompt_number": 399
    },
    {
     "cell_type": "code",
     "collapsed": false,
     "input": [
      "feature_matrix.shape"
     ],
     "language": "python",
     "metadata": {},
     "outputs": [
      {
       "metadata": {},
       "output_type": "pyout",
       "prompt_number": 400,
       "text": [
        "(300, 5574)"
       ]
      }
     ],
     "prompt_number": 400
    },
    {
     "cell_type": "code",
     "collapsed": false,
     "input": [
      "feature_matrix_flipped = feature_matrix.transpose()"
     ],
     "language": "python",
     "metadata": {},
     "outputs": [],
     "prompt_number": 413
    },
    {
     "cell_type": "code",
     "collapsed": false,
     "input": [
      "x_train, x_test, y_train, y_test = train_test_split(feature_matrix_flipped, spam_or_ham, test_size=0.4, random_state=0)"
     ],
     "language": "python",
     "metadata": {},
     "outputs": [],
     "prompt_number": 406
    },
    {
     "cell_type": "code",
     "collapsed": false,
     "input": [
      "from sklearn.ensemble import RandomForestClassifier\n",
      "\n",
      "classifier = RandomForestClassifier()\n",
      "classifier = classifier.fit(x_train, y_train)\n",
      "predicted = classifier.predict(x_test)\n",
      "\n",
      "print(metrics.classification_report(y_test, predicted))\n",
      "print(metrics.confusion_matrix(y_test, predicted))\n",
      "print(metrics.f1_score(y_test, predicted))"
     ],
     "language": "python",
     "metadata": {},
     "outputs": [
      {
       "output_type": "stream",
       "stream": "stdout",
       "text": [
        "             precision    recall  f1-score   support\n",
        "\n",
        "          0       1.00      1.00      1.00      1928\n",
        "          1       1.00      0.98      0.99       302\n",
        "\n",
        "avg / total       1.00      1.00      1.00      2230\n",
        "\n",
        "[[1927    1]\n",
        " [   5  297]]\n",
        "0.99\n"
       ]
      }
     ],
     "prompt_number": 443
    },
    {
     "cell_type": "markdown",
     "metadata": {},
     "source": [
      "Resulting in 98-99% accuracy"
     ]
    },
    {
     "cell_type": "markdown",
     "metadata": {},
     "source": [
      "Seeing if adding other features helps or hurts"
     ]
    },
    {
     "cell_type": "code",
     "collapsed": false,
     "input": [
      "other_features = np.array([sms_length, money_occurence, \n",
      "                           question_marks, exclamation_points, commas,\n",
      "                           colons, ampersands, at_signs, hash_tags,\n",
      "                           asterisks, capital_letters, numbers])"
     ],
     "language": "python",
     "metadata": {},
     "outputs": [],
     "prompt_number": 421
    },
    {
     "cell_type": "code",
     "collapsed": false,
     "input": [
      "feature_matrix = np.vstack((ham_features, spam_features, other_features))"
     ],
     "language": "python",
     "metadata": {},
     "outputs": [],
     "prompt_number": 422
    },
    {
     "cell_type": "code",
     "collapsed": false,
     "input": [
      "feature_matrix_flipped = feature_matrix.transpose()\n",
      "x_train, x_test, y_train, y_test = train_test_split(feature_matrix_flipped, spam_or_ham, test_size=0.4, random_state=0)"
     ],
     "language": "python",
     "metadata": {},
     "outputs": [],
     "prompt_number": 424
    },
    {
     "cell_type": "code",
     "collapsed": false,
     "input": [
      "from sklearn.ensemble import RandomForestClassifier\n",
      "\n",
      "classifier = RandomForestClassifier()\n",
      "classifier = classifier.fit(x_train, y_train)\n",
      "predicted = classifier.predict(x_test)\n",
      "\n",
      "print(metrics.classification_report(y_test, predicted))\n",
      "print(metrics.confusion_matrix(y_test, predicted))\n",
      "print(metrics.f1_score(y_test, predicted))"
     ],
     "language": "python",
     "metadata": {},
     "outputs": [
      {
       "output_type": "stream",
       "stream": "stdout",
       "text": [
        "             precision    recall  f1-score   support\n",
        "\n",
        "          0       1.00      1.00      1.00      1928\n",
        "          1       0.99      0.98      0.99       302\n",
        "\n",
        "avg / total       1.00      1.00      1.00      2230\n",
        "\n",
        "[[1926    2]\n",
        " [   6  296]]\n",
        "0.986666666667\n"
       ]
      }
     ],
     "prompt_number": 435
    },
    {
     "cell_type": "markdown",
     "metadata": {},
     "source": [
      "doesn't seem to help..."
     ]
    }
   ],
   "metadata": {}
  }
 ]
}